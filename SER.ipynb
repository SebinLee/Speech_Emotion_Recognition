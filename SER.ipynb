{
 "cells": [
  {
   "cell_type": "markdown",
   "metadata": {},
   "source": [
    "# Speech Emotion Recognition\n",
    "이 jupyter notebook에서는 사용자의 음성을 통한(특히 콘서트 상황에서의) 감정 인식을 진행합니다.  \n",
    "참고한 논문은 다음과 같습니다.\n",
    "\n",
    "- CHATTERJEE, Rajdeep, et al. Real-time speech emotion analysis for smart home assistants. IEEE Transactions on Consumer Electronics, 2021, 67.1: 68-76."
   ]
  },
  {
   "cell_type": "code",
   "execution_count": 41,
   "metadata": {},
   "outputs": [],
   "source": [
    "import os                                            \n",
    "import math\n",
    "import numpy as np                     \n",
    "import matplotlib.pyplot as plt \n",
    "import tensorflow as tf\n",
    "\n",
    "# Live Audio\n",
    "import librosa                                      \n",
    "import librosa.display                         \n",
    "from scipy.fftpack import fft                  \n",
    "from scipy.io.wavfile import write\n",
    "from sklearn.decomposition import FastICA\n"
   ]
  },
  {
   "cell_type": "code",
   "execution_count": 4,
   "metadata": {},
   "outputs": [],
   "source": [
    "# If you use local machine, run this cell\n",
    "file_root = \"/Users/sebinlee/Desktop/Github/SERPractice\""
   ]
  },
  {
   "cell_type": "code",
   "execution_count": 70,
   "metadata": {},
   "outputs": [],
   "source": [
    "AUDIO_FOLDER = os.path.join(file_root, \"audio-dataset/cheering\")"
   ]
  },
  {
   "cell_type": "markdown",
   "metadata": {},
   "source": [
    "## Preprocessing\n"
   ]
  },
  {
   "cell_type": "code",
   "execution_count": 98,
   "metadata": {},
   "outputs": [],
   "source": [
    "def preprocessing(audio_file_path) :\n",
    "    # Load Audio File\n",
    "    audio_timeseries, sampling_rate = librosa.load(audio_file_path)\n",
    "\n",
    "    # Silence Removal\n",
    "    audio_timeseries, _ = librosa.effects.trim(audio_timeseries)\n",
    "    audio_timeseries = librosa.power_to_db(audio_timeseries, ref=np.max)\n",
    "\n",
    "    # Declare variable \n",
    "    hop_length = 512\n",
    "    duration = librosa.get_duration(audio_timeseries, sr=sampling_rate, hop_length=hop_length)\n",
    "    n_mfcc = math.floor(sampling_rate * duration / hop_length)                                  # Fomula from paper \"Real-time speech emotion analysis for smart home assistants\"\n",
    "\n",
    "    # Get mfcc\n",
    "    mfcc = librosa.feature.mfcc(audio_timeseries, sr=sampling_rate, n_mfcc=n_mfcc, dct_type=3)\n",
    "\n",
    "    # Run Independent Component Analysis\n",
    "    ica = FastICA(n_components=3)\n",
    "    audio_ica = ica.fit_transform(mfcc)\n"
   ]
  },
  {
   "cell_type": "code",
   "execution_count": 99,
   "metadata": {},
   "outputs": [],
   "source": [
    "preprocessing(os.path.join(AUDIO_FOLDER, \"cheering.wav\"))"
   ]
  }
 ],
 "metadata": {
  "interpreter": {
   "hash": "ce9d5f3b762a4b809da740276dc6ee13f977563119004a7897d396360c07ebaf"
  },
  "kernelspec": {
   "display_name": "Python 3.8.12 ('tf38')",
   "language": "python",
   "name": "python3"
  },
  "language_info": {
   "codemirror_mode": {
    "name": "ipython",
    "version": 3
   },
   "file_extension": ".py",
   "mimetype": "text/x-python",
   "name": "python",
   "nbconvert_exporter": "python",
   "pygments_lexer": "ipython3",
   "version": "3.8.12"
  },
  "orig_nbformat": 4
 },
 "nbformat": 4,
 "nbformat_minor": 2
}
